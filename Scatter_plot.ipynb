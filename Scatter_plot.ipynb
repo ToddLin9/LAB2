{
 "cells": [
  {
   "cell_type": "code",
   "execution_count": 1,
   "id": "40fd9ebb",
   "metadata": {},
   "outputs": [],
   "source": [
    "import pickle\n",
    "import glob\n",
    "import pickle\n",
    "import matplotlib.pyplot as plt\n",
    "import numpy as np\n",
    "import pandas as pd\n",
    "\n",
    "files = glob.glob('results/alpha*_drop*_lists.pkl')"
   ]
  },
  {
   "cell_type": "code",
   "execution_count": 2,
   "id": "c9b6a6a1",
   "metadata": {},
   "outputs": [],
   "source": [
    "train_aac_list = {}\n",
    "train_loss_list = {}\n",
    "test_aac_list = {}\n",
    "\n",
    "for file in files:\n",
    "    try:\n",
    "        # Load the pickled list from a file\n",
    "        with open(file, 'rb') as f:\n",
    "            x = list(pickle.load(f))\n",
    "\n",
    "        train_aac_list[file] = x[0]\n",
    "        train_loss_list[file] = x[1]\n",
    "        test_aac_list[file] = x[2]\n",
    "    except:\n",
    "        print(file)"
   ]
  },
  {
   "cell_type": "code",
   "execution_count": 3,
   "id": "c3279328",
   "metadata": {},
   "outputs": [
    {
     "name": "stdout",
     "output_type": "stream",
     "text": [
      "results/alpha0.3_drop0.1_lists.pkl\n",
      "alpha is 0.3\n",
      "drop_rate is 0.1\n",
      "epoch is 130\n",
      "best_test_aac is 83.61111111111111\n",
      "=================================================\n",
      "results/alpha0.01_drop0.05_lists.pkl\n",
      "alpha is 0.01\n",
      "drop_rate is 0.05\n",
      "epoch is 91\n",
      "best_test_aac is 85.74074074074073\n",
      "=================================================\n",
      "results/alpha0.01_drop0.1_reducelr_epoch300_batch256_lists.pkl\n",
      "alpha is 0.01\n",
      "drop_rate is 0.1\n",
      "epoch is 155\n",
      "best_test_aac is 86.01851851851852\n",
      "=================================================\n",
      "results/alpha0.01_drop0.05_reducelr_epoch300_batch256_lists.pkl\n",
      "alpha is 0.01\n",
      "drop_rate is 0.05\n",
      "epoch is 267\n",
      "best_test_aac is 86.38888888888889\n",
      "=================================================\n",
      "results/alpha0.01_drop0.05_lr0.004_batch64_epoch300_lists.pkl\n",
      "alpha is 0.01\n",
      "drop_rate is 0.05\n",
      "epoch is 294\n",
      "best_test_aac is 86.57407407407408\n",
      "=================================================\n"
     ]
    }
   ],
   "source": [
    "f = []\n",
    "best = 0\n",
    "df = pd.DataFrame(columns=['alpha', 'dropout', 'best_test_aac', 'epoch'])\n",
    "\n",
    "for file, test_aac in test_aac_list.items():\n",
    "    try:\n",
    "        alpha = \"0.\"+str(file.split('_')[0].split('.')[1])\n",
    "        drop_rate = \"0.\"+str(file.split('_')[1].split('.')[1])\n",
    "        best_test_aac = max(test_aac)\n",
    "        epoch = test_aac.index(best_test_aac)+1\n",
    "        if len(file.split('_')) ==3:\n",
    "            df.loc[len(df)] = [float(alpha), float(drop_rate), best_test_aac, epoch]\n",
    "#         else:\n",
    "            f.append(file)\n",
    "        if best_test_aac<best:\n",
    "            pass\n",
    "        else:\n",
    "            best = best_test_aac\n",
    "            print(file)\n",
    "            print(f'alpha is {alpha}')\n",
    "            print(f'drop_rate is {drop_rate}')\n",
    "            print(f'epoch is {epoch}')\n",
    "            print(f'best_test_aac is {best_test_aac}')\n",
    "            print('=================================================')\n",
    "    except:\n",
    "        pass"
   ]
  },
  {
   "cell_type": "code",
   "execution_count": 4,
   "id": "310b4b70",
   "metadata": {},
   "outputs": [
    {
     "data": {
      "text/plain": [
       "88"
      ]
     },
     "execution_count": 4,
     "metadata": {},
     "output_type": "execute_result"
    }
   ],
   "source": [
    "len(f)"
   ]
  },
  {
   "cell_type": "code",
   "execution_count": 5,
   "id": "409091bc",
   "metadata": {},
   "outputs": [
    {
     "data": {
      "text/html": [
       "<div>\n",
       "<style scoped>\n",
       "    .dataframe tbody tr th:only-of-type {\n",
       "        vertical-align: middle;\n",
       "    }\n",
       "\n",
       "    .dataframe tbody tr th {\n",
       "        vertical-align: top;\n",
       "    }\n",
       "\n",
       "    .dataframe thead th {\n",
       "        text-align: right;\n",
       "    }\n",
       "</style>\n",
       "<table border=\"1\" class=\"dataframe\">\n",
       "  <thead>\n",
       "    <tr style=\"text-align: right;\">\n",
       "      <th></th>\n",
       "      <th>alpha</th>\n",
       "      <th>dropout</th>\n",
       "      <th>best_test_aac</th>\n",
       "      <th>epoch</th>\n",
       "    </tr>\n",
       "  </thead>\n",
       "  <tbody>\n",
       "    <tr>\n",
       "      <th>0</th>\n",
       "      <td>0.30</td>\n",
       "      <td>0.10</td>\n",
       "      <td>83.611111</td>\n",
       "      <td>130.0</td>\n",
       "    </tr>\n",
       "    <tr>\n",
       "      <th>1</th>\n",
       "      <td>0.01</td>\n",
       "      <td>0.05</td>\n",
       "      <td>85.740741</td>\n",
       "      <td>91.0</td>\n",
       "    </tr>\n",
       "    <tr>\n",
       "      <th>2</th>\n",
       "      <td>0.90</td>\n",
       "      <td>0.05</td>\n",
       "      <td>81.759259</td>\n",
       "      <td>142.0</td>\n",
       "    </tr>\n",
       "    <tr>\n",
       "      <th>3</th>\n",
       "      <td>0.90</td>\n",
       "      <td>0.10</td>\n",
       "      <td>81.203704</td>\n",
       "      <td>58.0</td>\n",
       "    </tr>\n",
       "    <tr>\n",
       "      <th>4</th>\n",
       "      <td>0.10</td>\n",
       "      <td>0.20</td>\n",
       "      <td>81.944444</td>\n",
       "      <td>50.0</td>\n",
       "    </tr>\n",
       "    <tr>\n",
       "      <th>...</th>\n",
       "      <td>...</td>\n",
       "      <td>...</td>\n",
       "      <td>...</td>\n",
       "      <td>...</td>\n",
       "    </tr>\n",
       "    <tr>\n",
       "      <th>83</th>\n",
       "      <td>0.60</td>\n",
       "      <td>0.15</td>\n",
       "      <td>82.314815</td>\n",
       "      <td>120.0</td>\n",
       "    </tr>\n",
       "    <tr>\n",
       "      <th>84</th>\n",
       "      <td>0.00</td>\n",
       "      <td>0.30</td>\n",
       "      <td>77.870370</td>\n",
       "      <td>140.0</td>\n",
       "    </tr>\n",
       "    <tr>\n",
       "      <th>85</th>\n",
       "      <td>0.40</td>\n",
       "      <td>0.30</td>\n",
       "      <td>84.259259</td>\n",
       "      <td>140.0</td>\n",
       "    </tr>\n",
       "    <tr>\n",
       "      <th>86</th>\n",
       "      <td>0.80</td>\n",
       "      <td>0.30</td>\n",
       "      <td>81.018519</td>\n",
       "      <td>72.0</td>\n",
       "    </tr>\n",
       "    <tr>\n",
       "      <th>87</th>\n",
       "      <td>0.50</td>\n",
       "      <td>0.15</td>\n",
       "      <td>82.870370</td>\n",
       "      <td>108.0</td>\n",
       "    </tr>\n",
       "  </tbody>\n",
       "</table>\n",
       "<p>88 rows × 4 columns</p>\n",
       "</div>"
      ],
      "text/plain": [
       "    alpha  dropout  best_test_aac  epoch\n",
       "0    0.30     0.10      83.611111  130.0\n",
       "1    0.01     0.05      85.740741   91.0\n",
       "2    0.90     0.05      81.759259  142.0\n",
       "3    0.90     0.10      81.203704   58.0\n",
       "4    0.10     0.20      81.944444   50.0\n",
       "..    ...      ...            ...    ...\n",
       "83   0.60     0.15      82.314815  120.0\n",
       "84   0.00     0.30      77.870370  140.0\n",
       "85   0.40     0.30      84.259259  140.0\n",
       "86   0.80     0.30      81.018519   72.0\n",
       "87   0.50     0.15      82.870370  108.0\n",
       "\n",
       "[88 rows x 4 columns]"
      ]
     },
     "execution_count": 5,
     "metadata": {},
     "output_type": "execute_result"
    }
   ],
   "source": [
    "df"
   ]
  },
  {
   "cell_type": "code",
   "execution_count": 6,
   "id": "0ab80086",
   "metadata": {},
   "outputs": [
    {
     "data": {
      "image/png": "[encoded data removed]",
      "text/plain": [
       "<Figure size 640x480 with 2 Axes>"
      ]
     },
     "metadata": {},
     "output_type": "display_data"
    }
   ],
   "source": [
    "# Create scatter plot\n",
    "plt.scatter(df['alpha'], df['dropout'], c=df['best_test_aac'], cmap='magma')\n",
    "\n",
    "# Add color bar\n",
    "plt.colorbar()\n",
    "# Add x and y axis labels\n",
    "plt.xlabel('alpha')\n",
    "plt.ylabel('dropout')\n",
    "plt.xscale('log')\n",
    "# Show plot\n",
    "plt.show()"
   ]
  },
  {
   "cell_type": "code",
   "execution_count": null,
   "id": "21a0da38",
   "metadata": {},
   "outputs": [],
   "source": []
  }
 ],
 "metadata": {
  "kernelspec": {
   "display_name": "Python 3 (ipykernel)",
   "language": "python",
   "name": "python3"
  },
  "language_info": {
   "codemirror_mode": {
    "name": "ipython",
    "version": 3
   },
   "file_extension": ".py",
   "mimetype": "text/x-python",
   "name": "python",
   "nbconvert_exporter": "python",
   "pygments_lexer": "ipython3",
   "version": "3.7.13"
  }
 },
 "nbformat": 4,
 "nbformat_minor": 5
}
